{
 "cells": [
  {
   "cell_type": "code",
   "execution_count": 6,
   "metadata": {
    "scrolled": true
   },
   "outputs": [
    {
     "data": {
      "text/html": [
       "<div>\n",
       "<style scoped>\n",
       "    .dataframe tbody tr th:only-of-type {\n",
       "        vertical-align: middle;\n",
       "    }\n",
       "\n",
       "    .dataframe tbody tr th {\n",
       "        vertical-align: top;\n",
       "    }\n",
       "\n",
       "    .dataframe thead th {\n",
       "        text-align: right;\n",
       "    }\n",
       "</style>\n",
       "<table border=\"1\" class=\"dataframe\">\n",
       "  <thead>\n",
       "    <tr style=\"text-align: right;\">\n",
       "      <th></th>\n",
       "      <th>reporting date</th>\n",
       "      <th>location</th>\n",
       "      <th>country</th>\n",
       "      <th>gender</th>\n",
       "      <th>age</th>\n",
       "      <th>symptom_onset</th>\n",
       "      <th>exposure_start</th>\n",
       "      <th>exposure_end</th>\n",
       "      <th>visiting Wuhan</th>\n",
       "      <th>from Wuhan</th>\n",
       "      <th>death</th>\n",
       "      <th>recovered</th>\n",
       "    </tr>\n",
       "  </thead>\n",
       "  <tbody>\n",
       "    <tr>\n",
       "      <th>0</th>\n",
       "      <td>1/20/2020</td>\n",
       "      <td>Shenzhen, Guangdong</td>\n",
       "      <td>China</td>\n",
       "      <td>male</td>\n",
       "      <td>66.0</td>\n",
       "      <td>01/03/20</td>\n",
       "      <td>12/29/2019</td>\n",
       "      <td>01/04/20</td>\n",
       "      <td>1</td>\n",
       "      <td>0.0</td>\n",
       "      <td>0</td>\n",
       "      <td>0</td>\n",
       "    </tr>\n",
       "    <tr>\n",
       "      <th>1</th>\n",
       "      <td>1/20/2020</td>\n",
       "      <td>Shanghai</td>\n",
       "      <td>China</td>\n",
       "      <td>female</td>\n",
       "      <td>56.0</td>\n",
       "      <td>1/15/2020</td>\n",
       "      <td>NaN</td>\n",
       "      <td>01/12/20</td>\n",
       "      <td>0</td>\n",
       "      <td>1.0</td>\n",
       "      <td>0</td>\n",
       "      <td>0</td>\n",
       "    </tr>\n",
       "    <tr>\n",
       "      <th>2</th>\n",
       "      <td>1/21/2020</td>\n",
       "      <td>Zhejiang</td>\n",
       "      <td>China</td>\n",
       "      <td>male</td>\n",
       "      <td>46.0</td>\n",
       "      <td>01/04/20</td>\n",
       "      <td>NaN</td>\n",
       "      <td>01/03/20</td>\n",
       "      <td>0</td>\n",
       "      <td>1.0</td>\n",
       "      <td>0</td>\n",
       "      <td>0</td>\n",
       "    </tr>\n",
       "    <tr>\n",
       "      <th>3</th>\n",
       "      <td>1/21/2020</td>\n",
       "      <td>Tianjin</td>\n",
       "      <td>China</td>\n",
       "      <td>female</td>\n",
       "      <td>60.0</td>\n",
       "      <td>NaN</td>\n",
       "      <td>NaN</td>\n",
       "      <td>NaN</td>\n",
       "      <td>1</td>\n",
       "      <td>0.0</td>\n",
       "      <td>0</td>\n",
       "      <td>0</td>\n",
       "    </tr>\n",
       "    <tr>\n",
       "      <th>4</th>\n",
       "      <td>1/21/2020</td>\n",
       "      <td>Tianjin</td>\n",
       "      <td>China</td>\n",
       "      <td>male</td>\n",
       "      <td>58.0</td>\n",
       "      <td>NaN</td>\n",
       "      <td>NaN</td>\n",
       "      <td>NaN</td>\n",
       "      <td>0</td>\n",
       "      <td>0.0</td>\n",
       "      <td>0</td>\n",
       "      <td>0</td>\n",
       "    </tr>\n",
       "  </tbody>\n",
       "</table>\n",
       "</div>"
      ],
      "text/plain": [
       "  reporting date             location country  gender   age symptom_onset  \\\n",
       "0      1/20/2020  Shenzhen, Guangdong   China    male  66.0      01/03/20   \n",
       "1      1/20/2020             Shanghai   China  female  56.0     1/15/2020   \n",
       "2      1/21/2020             Zhejiang   China    male  46.0      01/04/20   \n",
       "3      1/21/2020              Tianjin   China  female  60.0           NaN   \n",
       "4      1/21/2020              Tianjin   China    male  58.0           NaN   \n",
       "\n",
       "  exposure_start exposure_end  visiting Wuhan  from Wuhan death recovered  \n",
       "0     12/29/2019     01/04/20               1         0.0     0         0  \n",
       "1            NaN     01/12/20               0         1.0     0         0  \n",
       "2            NaN     01/03/20               0         1.0     0         0  \n",
       "3            NaN          NaN               1         0.0     0         0  \n",
       "4            NaN          NaN               0         0.0     0         0  "
      ]
     },
     "execution_count": 6,
     "metadata": {},
     "output_type": "execute_result"
    }
   ],
   "source": [
    "import numpy as np\n",
    "import matplotlib.pyplot as plt\n",
    "import seaborn as sns\n",
    "import pandas as pd\n",
    "from scipy import stats\n",
    "\n",
    "data = pd.read_csv(\"covid_short_data-5.csv\")\n",
    "data.head()"
   ]
  },
  {
   "cell_type": "code",
   "execution_count": 18,
   "metadata": {},
   "outputs": [],
   "source": [
    "from datetime import datetime\n",
    "\n",
    "def to_date(date):\n",
    "    if len(date.split('/')[-1])==2:   #split('/') - разделяет строку по / и выводит список\n",
    "        return datetime.strptime(date, '%m/%d/%y').date()\n",
    "    return datetime.strptime(date, '%m/%d/%Y').date()\n",
    "#Это сделано, т.к. год в данных записан по-разному(например, 20 или 2020). Это надо учитывать, чтобы не потерять данные\n",
    "\n",
    "def numOfDays(date1, date2): \n",
    "    return (to_date(date2)-to_date(date1)).days "
   ]
  },
  {
   "cell_type": "code",
   "execution_count": 19,
   "metadata": {},
   "outputs": [
    {
     "name": "stdout",
     "output_type": "stream",
     "text": [
      "3.0\n"
     ]
    },
    {
     "data": {
      "text/plain": [
       "numpy.float64"
      ]
     },
     "execution_count": 19,
     "metadata": {},
     "output_type": "execute_result"
    }
   ],
   "source": [
    "deltaDays = np.array([numOfDays(data['exposure_start'][n], data['exposure_end'][n]) \n",
    "                     for n in range(len(data['reporting date'])) \n",
    "                     if type(data['exposure_start'][n]) == str \n",
    "                     and type(data['exposure_end'][n]) == str \n",
    "                     ])\n",
    "median = np.median(deltaDays)\n",
    "print(median)\n",
    "type(median)"
   ]
  },
  {
   "cell_type": "markdown",
   "metadata": {},
   "source": [
    "Инкубационный период в Южной Корее: (для Южной Кореи много строк, где все три даты пустые, поэтому выборка такая маленькая получилась)"
   ]
  },
  {
   "cell_type": "code",
   "execution_count": 20,
   "metadata": {},
   "outputs": [
    {
     "name": "stdout",
     "output_type": "stream",
     "text": [
      "[5. 4. 6. 3. 4. 9. 6.]\n"
     ]
    },
    {
     "data": {
      "text/plain": [
       "7"
      ]
     },
     "execution_count": 20,
     "metadata": {},
     "output_type": "execute_result"
    }
   ],
   "source": [
    "def IncubationPeriod_SouthKorea(data,m,n):\n",
    "    if type(data['exposure_end'][n]) == str and type(data['symptom_onset'][n]) == str and data['country'][n] == 'South Korea':\n",
    "        nD=numOfDays(data['exposure_end'][n], data['symptom_onset'][n])\n",
    "        if nD>=0:\n",
    "            return nD+m\n",
    "    elif type(data['exposure_start'][n]) == str  and type(data['symptom_onset'][n]) == str and data['country'][n] == 'South Korea':\n",
    "        return numOfDays(data['exposure_start'][n], data['symptom_onset'][n])-m\n",
    "    return  \n",
    "\n",
    "Incubation_SouthKorea = np.array([IncubationPeriod_SouthKorea(data,median,n) for n in range(len(data['reporting date'])) if IncubationPeriod_SouthKorea(data,median,n)!= None])\n",
    "print(Incubation_SouthKorea) \n",
    "len(Incubation_SouthKorea)"
   ]
  },
  {
   "cell_type": "markdown",
   "metadata": {},
   "source": [
    "Инкубационный период в Европе:"
   ]
  },
  {
   "cell_type": "code",
   "execution_count": 21,
   "metadata": {},
   "outputs": [
    {
     "name": "stdout",
     "output_type": "stream",
     "text": [
      "[4. 4. 7. 5. 6. 7. 8. 6. 8. 5. 7. 6. 5.]\n"
     ]
    },
    {
     "data": {
      "text/plain": [
       "13"
      ]
     },
     "execution_count": 21,
     "metadata": {},
     "output_type": "execute_result"
    }
   ],
   "source": [
    "def IncubationPeriod_Europe(data,m,n):\n",
    "    if type(data['exposure_end'][n]) == str and type(data['symptom_onset'][n]) == str and (data['country'][n] == 'France' or data['country'][n] == 'Germany' or data['country'][n] == 'Italy' or data['country'][n] == 'UK' or data['country'][n] == 'Spain' or data['country'][n] == 'Belgium' or data['country'][n] == 'Austria' or data['country'][n] == 'Sweden' or data['country'][n] == 'Croatia' or data['country'][n] == 'Switzerland' or data['country'][n] == 'Finland'):\n",
    "        nD=numOfDays(data['exposure_end'][n], data['symptom_onset'][n])\n",
    "        if nD>=0:\n",
    "            return nD+m\n",
    "    elif type(data['exposure_start'][n]) == str  and type(data['symptom_onset'][n]) == str and (data['country'][n] == 'France' or data['country'][n] == 'Germany' or data['country'][n] == 'Italy' or data['country'][n] == 'UK' or data['country'][n] == 'Spain' or data['country'][n] == 'Belgium' or data['country'][n] == 'Austria' or data['country'][n] == 'Sweden' or data['country'][n] == 'Croatia' or data['country'][n] == 'Switzerland' or data['country'][n] == 'Finland'):\n",
    "        return numOfDays(data['exposure_start'][n], data['symptom_onset'][n])-m\n",
    "    return  \n",
    "\n",
    "Incubation_Europe = np.array([IncubationPeriod_Europe(data,median,n) for n in range(len(data['reporting date'])) if IncubationPeriod_Europe(data,median,n)!= None])\n",
    "print(Incubation_Europe) \n",
    "len(Incubation_Europe)"
   ]
  },
  {
   "cell_type": "markdown",
   "metadata": {},
   "source": [
    "Проверим выборки на нормальность с помощью критерия Шапиро-Уилка: (он проверяет гипотезу $H_0$: случайная величина распределена нормально)"
   ]
  },
  {
   "cell_type": "code",
   "execution_count": 22,
   "metadata": {},
   "outputs": [
    {
     "data": {
      "text/plain": [
       "ShapiroResult(statistic=0.9137776494026184, pvalue=0.42264872789382935)"
      ]
     },
     "execution_count": 22,
     "metadata": {},
     "output_type": "execute_result"
    }
   ],
   "source": [
    "stats.shapiro(Incubation_SouthKorea)"
   ]
  },
  {
   "cell_type": "code",
   "execution_count": 23,
   "metadata": {},
   "outputs": [
    {
     "data": {
      "text/plain": [
       "ShapiroResult(statistic=0.9276456832885742, pvalue=0.31738579273223877)"
      ]
     },
     "execution_count": 23,
     "metadata": {},
     "output_type": "execute_result"
    }
   ],
   "source": [
    "stats.shapiro(Incubation_Europe)"
   ]
  },
  {
   "cell_type": "markdown",
   "metadata": {},
   "source": [
    "Видно, что $P_{value}$ > 0.05 (0.05 - это уровень значимости) в обоих случаях, поэтому гипотеза не отвергается. Т.е. выборки распределены нормально."
   ]
  },
  {
   "cell_type": "markdown",
   "metadata": {},
   "source": [
    "Будем использовать критерйи Стьюдента, но сначала проверим равенство дисперсий:"
   ]
  },
  {
   "cell_type": "code",
   "execution_count": 33,
   "metadata": {},
   "outputs": [],
   "source": [
    "def Ftest_pvalue(d1,d2):\n",
    "    df1 = len(d1) - 1\n",
    "    df2 = len(d2) - 1\n",
    "    F = d1.var(ddof=1)/d2.var(ddof=1)\n",
    "    double_tailed_pval = 2*stats.f.cdf(F,df1,df2) if F<1 else 2*(1-stats.f.cdf(F,df1,df2))\n",
    "    return double_tailed_pval"
   ]
  },
  {
   "cell_type": "code",
   "execution_count": 34,
   "metadata": {},
   "outputs": [
    {
     "data": {
      "text/plain": [
       "0.2497206135641612"
      ]
     },
     "execution_count": 34,
     "metadata": {},
     "output_type": "execute_result"
    }
   ],
   "source": [
    "Ftest_pvalue(Incubation_SouthKorea, Incubation_Europe)"
   ]
  },
  {
   "cell_type": "markdown",
   "metadata": {},
   "source": [
    "Значение > 0.05 (т.е. верна гипотеза о том, что дисперсии равны), поэтому будем применять t-тест с равными дисперсиями."
   ]
  },
  {
   "cell_type": "markdown",
   "metadata": {},
   "source": [
    "$H_0$: среднее значение инкубационного периода в Южной Корее равно среднему значению инкубационного периода в Европе\n",
    "\n",
    "$H_1$: $H_0$ неверна"
   ]
  },
  {
   "cell_type": "code",
   "execution_count": 35,
   "metadata": {},
   "outputs": [
    {
     "data": {
      "text/plain": [
       "Ttest_indResult(statistic=-0.959067943763484, pvalue=0.35023079671201485)"
      ]
     },
     "execution_count": 35,
     "metadata": {},
     "output_type": "execute_result"
    }
   ],
   "source": [
    "stats.ttest_ind(Incubation_SouthKorea, Incubation_Europe)"
   ]
  },
  {
   "cell_type": "markdown",
   "metadata": {},
   "source": [
    "Значение $P_{value}$ > 0.05, поэтому гипотезу $H_0$ принимаем."
   ]
  }
 ],
 "metadata": {
  "kernelspec": {
   "display_name": "Python 3",
   "language": "python",
   "name": "python3"
  },
  "language_info": {
   "codemirror_mode": {
    "name": "ipython",
    "version": 3
   },
   "file_extension": ".py",
   "mimetype": "text/x-python",
   "name": "python",
   "nbconvert_exporter": "python",
   "pygments_lexer": "ipython3",
   "version": "3.8.5"
  }
 },
 "nbformat": 4,
 "nbformat_minor": 4
}
